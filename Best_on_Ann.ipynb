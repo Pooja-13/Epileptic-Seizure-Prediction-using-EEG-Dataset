{
 "cells": [
  {
   "cell_type": "markdown",
   "metadata": {},
   "source": [
    "# Epileptic seizure detection from EEG signals using Deep Learning\n",
    "  \n",
    "  "
   ]
  },
  {
   "cell_type": "code",
   "execution_count": 1,
   "metadata": {},
   "outputs": [
    {
     "name": "stderr",
     "output_type": "stream",
     "text": [
      "Using TensorFlow backend.\n"
     ]
    }
   ],
   "source": [
    "import tensorflow as tf\n",
    "import numpy as np\n",
    "from keras.models import Sequential\n",
    "from keras.utils import np_utils\n",
    "from keras.layers import Dense, Activation\n",
    "import pandas as pd\n",
    "\n",
    "import matplotlib.pyplot as plt"
   ]
  },
  {
   "cell_type": "markdown",
   "metadata": {},
   "source": [
    "# Data Preprocessing"
   ]
  },
  {
   "cell_type": "code",
   "execution_count": 2,
   "metadata": {},
   "outputs": [
    {
     "data": {
      "text/html": [
       "<div>\n",
       "<style scoped>\n",
       "    .dataframe tbody tr th:only-of-type {\n",
       "        vertical-align: middle;\n",
       "    }\n",
       "\n",
       "    .dataframe tbody tr th {\n",
       "        vertical-align: top;\n",
       "    }\n",
       "\n",
       "    .dataframe thead th {\n",
       "        text-align: right;\n",
       "    }\n",
       "</style>\n",
       "<table border=\"1\" class=\"dataframe\">\n",
       "  <thead>\n",
       "    <tr style=\"text-align: right;\">\n",
       "      <th></th>\n",
       "      <th>Unnamed: 0</th>\n",
       "      <th>X1</th>\n",
       "      <th>X2</th>\n",
       "      <th>X3</th>\n",
       "      <th>X4</th>\n",
       "      <th>X5</th>\n",
       "      <th>X6</th>\n",
       "      <th>X7</th>\n",
       "      <th>X8</th>\n",
       "      <th>X9</th>\n",
       "      <th>...</th>\n",
       "      <th>X170</th>\n",
       "      <th>X171</th>\n",
       "      <th>X172</th>\n",
       "      <th>X173</th>\n",
       "      <th>X174</th>\n",
       "      <th>X175</th>\n",
       "      <th>X176</th>\n",
       "      <th>X177</th>\n",
       "      <th>X178</th>\n",
       "      <th>y</th>\n",
       "    </tr>\n",
       "  </thead>\n",
       "  <tbody>\n",
       "    <tr>\n",
       "      <td>0</td>\n",
       "      <td>X21.V1.791</td>\n",
       "      <td>135</td>\n",
       "      <td>190</td>\n",
       "      <td>229</td>\n",
       "      <td>223</td>\n",
       "      <td>192</td>\n",
       "      <td>125</td>\n",
       "      <td>55</td>\n",
       "      <td>-9</td>\n",
       "      <td>-33</td>\n",
       "      <td>...</td>\n",
       "      <td>-17</td>\n",
       "      <td>-15</td>\n",
       "      <td>-31</td>\n",
       "      <td>-77</td>\n",
       "      <td>-103</td>\n",
       "      <td>-127</td>\n",
       "      <td>-116</td>\n",
       "      <td>-83</td>\n",
       "      <td>-51</td>\n",
       "      <td>4</td>\n",
       "    </tr>\n",
       "    <tr>\n",
       "      <td>1</td>\n",
       "      <td>X15.V1.924</td>\n",
       "      <td>386</td>\n",
       "      <td>382</td>\n",
       "      <td>356</td>\n",
       "      <td>331</td>\n",
       "      <td>320</td>\n",
       "      <td>315</td>\n",
       "      <td>307</td>\n",
       "      <td>272</td>\n",
       "      <td>244</td>\n",
       "      <td>...</td>\n",
       "      <td>164</td>\n",
       "      <td>150</td>\n",
       "      <td>146</td>\n",
       "      <td>152</td>\n",
       "      <td>157</td>\n",
       "      <td>156</td>\n",
       "      <td>154</td>\n",
       "      <td>143</td>\n",
       "      <td>129</td>\n",
       "      <td>1</td>\n",
       "    </tr>\n",
       "    <tr>\n",
       "      <td>2</td>\n",
       "      <td>X8.V1.1</td>\n",
       "      <td>-32</td>\n",
       "      <td>-39</td>\n",
       "      <td>-47</td>\n",
       "      <td>-37</td>\n",
       "      <td>-32</td>\n",
       "      <td>-36</td>\n",
       "      <td>-57</td>\n",
       "      <td>-73</td>\n",
       "      <td>-85</td>\n",
       "      <td>...</td>\n",
       "      <td>57</td>\n",
       "      <td>64</td>\n",
       "      <td>48</td>\n",
       "      <td>19</td>\n",
       "      <td>-12</td>\n",
       "      <td>-30</td>\n",
       "      <td>-35</td>\n",
       "      <td>-35</td>\n",
       "      <td>-36</td>\n",
       "      <td>5</td>\n",
       "    </tr>\n",
       "    <tr>\n",
       "      <td>3</td>\n",
       "      <td>X16.V1.60</td>\n",
       "      <td>-105</td>\n",
       "      <td>-101</td>\n",
       "      <td>-96</td>\n",
       "      <td>-92</td>\n",
       "      <td>-89</td>\n",
       "      <td>-95</td>\n",
       "      <td>-102</td>\n",
       "      <td>-100</td>\n",
       "      <td>-87</td>\n",
       "      <td>...</td>\n",
       "      <td>-82</td>\n",
       "      <td>-81</td>\n",
       "      <td>-80</td>\n",
       "      <td>-77</td>\n",
       "      <td>-85</td>\n",
       "      <td>-77</td>\n",
       "      <td>-72</td>\n",
       "      <td>-69</td>\n",
       "      <td>-65</td>\n",
       "      <td>5</td>\n",
       "    </tr>\n",
       "    <tr>\n",
       "      <td>4</td>\n",
       "      <td>X20.V1.54</td>\n",
       "      <td>-9</td>\n",
       "      <td>-65</td>\n",
       "      <td>-98</td>\n",
       "      <td>-102</td>\n",
       "      <td>-78</td>\n",
       "      <td>-48</td>\n",
       "      <td>-16</td>\n",
       "      <td>0</td>\n",
       "      <td>-21</td>\n",
       "      <td>...</td>\n",
       "      <td>4</td>\n",
       "      <td>2</td>\n",
       "      <td>-12</td>\n",
       "      <td>-32</td>\n",
       "      <td>-41</td>\n",
       "      <td>-65</td>\n",
       "      <td>-83</td>\n",
       "      <td>-89</td>\n",
       "      <td>-73</td>\n",
       "      <td>5</td>\n",
       "    </tr>\n",
       "  </tbody>\n",
       "</table>\n",
       "<p>5 rows × 180 columns</p>\n",
       "</div>"
      ],
      "text/plain": [
       "   Unnamed: 0   X1   X2   X3   X4   X5   X6   X7   X8   X9  ...  X170  X171  \\\n",
       "0  X21.V1.791  135  190  229  223  192  125   55   -9  -33  ...   -17   -15   \n",
       "1  X15.V1.924  386  382  356  331  320  315  307  272  244  ...   164   150   \n",
       "2     X8.V1.1  -32  -39  -47  -37  -32  -36  -57  -73  -85  ...    57    64   \n",
       "3   X16.V1.60 -105 -101  -96  -92  -89  -95 -102 -100  -87  ...   -82   -81   \n",
       "4   X20.V1.54   -9  -65  -98 -102  -78  -48  -16    0  -21  ...     4     2   \n",
       "\n",
       "   X172  X173  X174  X175  X176  X177  X178  y  \n",
       "0   -31   -77  -103  -127  -116   -83   -51  4  \n",
       "1   146   152   157   156   154   143   129  1  \n",
       "2    48    19   -12   -30   -35   -35   -36  5  \n",
       "3   -80   -77   -85   -77   -72   -69   -65  5  \n",
       "4   -12   -32   -41   -65   -83   -89   -73  5  \n",
       "\n",
       "[5 rows x 180 columns]"
      ]
     },
     "execution_count": 2,
     "metadata": {},
     "output_type": "execute_result"
    }
   ],
   "source": [
    "df=pd.read_csv('C:/Users/HP/Desktop/Project/Project Phase II/data.csv')\n",
    "df.head()"
   ]
  },
  {
   "cell_type": "code",
   "execution_count": 3,
   "metadata": {},
   "outputs": [],
   "source": [
    "X=df.values"
   ]
  },
  {
   "cell_type": "code",
   "execution_count": 4,
   "metadata": {},
   "outputs": [],
   "source": [
    "X=X[:,1:-1]\n"
   ]
  },
  {
   "cell_type": "code",
   "execution_count": 5,
   "metadata": {},
   "outputs": [],
   "source": [
    "from sklearn.model_selection import train_test_split\n",
    "\n",
    "\n",
    "y=np.array(df['y'])\n",
    "Y=np_utils.to_categorical(y)\n",
    "Y.shape\n",
    "X_train, X_test, Y_train, Y_test = train_test_split(X, Y, test_size=0.20, random_state=1)"
   ]
  },
  {
   "cell_type": "code",
   "execution_count": 6,
   "metadata": {},
   "outputs": [
    {
     "name": "stdout",
     "output_type": "stream",
     "text": [
      "(11500, 178) (11500,)\n"
     ]
    }
   ],
   "source": [
    "print(X.shape,y.shape)"
   ]
  },
  {
   "cell_type": "markdown",
   "metadata": {},
   "source": [
    "# Intuition of the Epileptical Signal In the Dataset "
   ]
  },
  {
   "cell_type": "code",
   "execution_count": 7,
   "metadata": {},
   "outputs": [
    {
     "data": {
      "image/png": "[encoded data removed]",
      "text/plain": [
       "<Figure size 864x576 with 1 Axes>"
      ]
     },
     "metadata": {
      "needs_background": "light"
     },
     "output_type": "display_data"
    }
   ],
   "source": [
    "plt.figure(figsize=(12,8))\n",
    "plt.plot(X[1,:],label='1')\n",
    "plt.plot(X[7,:],label='2')\n",
    "plt.plot(X[12,:],label='3')\n",
    "plt.plot(X[0,:],label='4')\n",
    "plt.plot(X[2,:],label='5')\n",
    "plt.plot(X[3,:],label='6')\n",
    "plt.legend()\n",
    "plt.show()"
   ]
  },
  {
   "cell_type": "markdown",
   "metadata": {},
   "source": [
    "# Creating Artifitial Neural Net Model For the Classification "
   ]
  },
  {
   "cell_type": "code",
   "execution_count": 8,
   "metadata": {},
   "outputs": [
    {
     "name": "stdout",
     "output_type": "stream",
     "text": [
      "WARNING:tensorflow:From C:\\Users\\HP\\Anaconda3\\lib\\site-packages\\keras\\backend\\tensorflow_backend.py:74: The name tf.get_default_graph is deprecated. Please use tf.compat.v1.get_default_graph instead.\n",
      "\n",
      "WARNING:tensorflow:From C:\\Users\\HP\\Anaconda3\\lib\\site-packages\\keras\\backend\\tensorflow_backend.py:517: The name tf.placeholder is deprecated. Please use tf.compat.v1.placeholder instead.\n",
      "\n",
      "WARNING:tensorflow:From C:\\Users\\HP\\Anaconda3\\lib\\site-packages\\keras\\backend\\tensorflow_backend.py:4138: The name tf.random_uniform is deprecated. Please use tf.random.uniform instead.\n",
      "\n",
      "_________________________________________________________________\n",
      "Layer (type)                 Output Shape              Param #   \n",
      "=================================================================\n",
      "dense_1 (Dense)              (None, 256)               11776     \n",
      "_________________________________________________________________\n",
      "activation_1 (Activation)    (None, 256)               0         \n",
      "_________________________________________________________________\n",
      "dense_2 (Dense)              (None, 128)               32896     \n",
      "_________________________________________________________________\n",
      "activation_2 (Activation)    (None, 128)               0         \n",
      "_________________________________________________________________\n",
      "dense_3 (Dense)              (None, 128)               16512     \n",
      "_________________________________________________________________\n",
      "activation_3 (Activation)    (None, 128)               0         \n",
      "_________________________________________________________________\n",
      "dense_4 (Dense)              (None, 64)                8256      \n",
      "_________________________________________________________________\n",
      "activation_4 (Activation)    (None, 64)                0         \n",
      "_________________________________________________________________\n",
      "dense_5 (Dense)              (None, 32)                2080      \n",
      "_________________________________________________________________\n",
      "activation_5 (Activation)    (None, 32)                0         \n",
      "_________________________________________________________________\n",
      "dense_6 (Dense)              (None, 32)                1056      \n",
      "_________________________________________________________________\n",
      "activation_6 (Activation)    (None, 32)                0         \n",
      "_________________________________________________________________\n",
      "dense_7 (Dense)              (None, 32)                1056      \n",
      "_________________________________________________________________\n",
      "activation_7 (Activation)    (None, 32)                0         \n",
      "_________________________________________________________________\n",
      "dense_8 (Dense)              (None, 16)                528       \n",
      "_________________________________________________________________\n",
      "activation_8 (Activation)    (None, 16)                0         \n",
      "_________________________________________________________________\n",
      "dense_9 (Dense)              (None, 16)                272       \n",
      "_________________________________________________________________\n",
      "activation_9 (Activation)    (None, 16)                0         \n",
      "_________________________________________________________________\n",
      "dense_10 (Dense)             (None, 8)                 136       \n",
      "_________________________________________________________________\n",
      "activation_10 (Activation)   (None, 8)                 0         \n",
      "_________________________________________________________________\n",
      "dense_11 (Dense)             (None, 5)                 45        \n",
      "_________________________________________________________________\n",
      "activation_11 (Activation)   (None, 5)                 0         \n",
      "=================================================================\n",
      "Total params: 74,613\n",
      "Trainable params: 74,613\n",
      "Non-trainable params: 0\n",
      "_________________________________________________________________\n"
     ]
    }
   ],
   "source": [
    "model=Sequential()\n",
    "\n",
    "\n",
    "model.add(Dense(256,input_shape=(45,)))\n",
    "model.add(Activation('relu'))\n",
    "model.add(Dense(128))\n",
    "model.add(Activation('relu'))\n",
    "model.add(Dense(128))\n",
    "model.add(Activation('relu'))\n",
    "model.add(Dense(64))\n",
    "model.add(Activation('relu'))\n",
    "model.add(Dense(32))\n",
    "model.add(Activation('relu'))\n",
    "model.add(Dense(32))\n",
    "model.add(Activation('relu'))\n",
    "model.add(Dense(32))\n",
    "model.add(Activation('relu'))\n",
    "model.add(Dense(16))\n",
    "model.add(Activation('relu'))\n",
    "model.add(Dense(16))\n",
    "model.add(Activation('relu'))\n",
    "model.add(Dense(8))\n",
    "model.add(Activation('relu'))\n",
    "model.add(Dense(5))\n",
    "model.add(Activation('softmax'))\n",
    "model.summary()"
   ]
  },
  {
   "cell_type": "code",
   "execution_count": 9,
   "metadata": {},
   "outputs": [
    {
     "name": "stdout",
     "output_type": "stream",
     "text": [
      "WARNING:tensorflow:From C:\\Users\\HP\\Anaconda3\\lib\\site-packages\\keras\\optimizers.py:790: The name tf.train.Optimizer is deprecated. Please use tf.compat.v1.train.Optimizer instead.\n",
      "\n",
      "WARNING:tensorflow:From C:\\Users\\HP\\Anaconda3\\lib\\site-packages\\keras\\backend\\tensorflow_backend.py:3376: The name tf.log is deprecated. Please use tf.math.log instead.\n",
      "\n",
      "WARNING:tensorflow:From C:\\Users\\HP\\Anaconda3\\lib\\site-packages\\tensorflow\\python\\ops\\nn_impl.py:180: add_dispatch_support.<locals>.wrapper (from tensorflow.python.ops.array_ops) is deprecated and will be removed in a future version.\n",
      "Instructions for updating:\n",
      "Use tf.where in 2.0, which has the same broadcast rule as np.where\n"
     ]
    }
   ],
   "source": [
    "model.compile(optimizer='adam',loss='binary_crossentropy',metrics=['accuracy'])\n"
   ]
  },
  {
   "cell_type": "code",
   "execution_count": 10,
   "metadata": {
    "scrolled": true
   },
   "outputs": [
    {
     "name": "stdout",
     "output_type": "stream",
     "text": [
      "WARNING:tensorflow:From C:\\Users\\HP\\Anaconda3\\lib\\site-packages\\keras\\backend\\tensorflow_backend.py:986: The name tf.assign_add is deprecated. Please use tf.compat.v1.assign_add instead.\n",
      "\n",
      "Train on 9200 samples, validate on 2300 samples\n",
      "Epoch 1/100\n",
      " - 7s - loss: 0.3592 - acc: 0.8402 - val_loss: 0.2994 - val_acc: 0.8617\n",
      "Epoch 2/100\n",
      " - 4s - loss: 0.2695 - acc: 0.8681 - val_loss: 0.2727 - val_acc: 0.8695\n",
      "Epoch 3/100\n",
      " - 5s - loss: 0.2425 - acc: 0.8790 - val_loss: 0.2558 - val_acc: 0.8731\n",
      "Epoch 4/100\n",
      " - 5s - loss: 0.2286 - acc: 0.8819 - val_loss: 0.2572 - val_acc: 0.8712\n",
      "Epoch 5/100\n",
      " - 5s - loss: 0.2145 - acc: 0.8889 - val_loss: 0.2487 - val_acc: 0.8745\n",
      "Epoch 6/100\n",
      " - 5s - loss: 0.2031 - acc: 0.8954 - val_loss: 0.2484 - val_acc: 0.8762\n",
      "Epoch 7/100\n",
      " - 6s - loss: 0.1977 - acc: 0.8996 - val_loss: 0.2628 - val_acc: 0.8779\n",
      "Epoch 8/100\n",
      " - 5s - loss: 0.1799 - acc: 0.9101 - val_loss: 0.2495 - val_acc: 0.8794\n",
      "Epoch 9/100\n",
      " - 6s - loss: 0.1697 - acc: 0.9135 - val_loss: 0.2563 - val_acc: 0.8780\n",
      "Epoch 10/100\n",
      " - 5s - loss: 0.1651 - acc: 0.9187 - val_loss: 0.2817 - val_acc: 0.8740\n",
      "Epoch 11/100\n",
      " - 5s - loss: 0.1609 - acc: 0.9244 - val_loss: 0.3067 - val_acc: 0.8715\n",
      "Epoch 12/100\n",
      " - 6s - loss: 0.1452 - acc: 0.9319 - val_loss: 0.3009 - val_acc: 0.8809\n",
      "Epoch 13/100\n",
      " - 6s - loss: 0.1339 - acc: 0.9400 - val_loss: 0.3202 - val_acc: 0.8797\n",
      "Epoch 14/100\n",
      " - 5s - loss: 0.1237 - acc: 0.9441 - val_loss: 0.3034 - val_acc: 0.8810\n",
      "Epoch 15/100\n",
      " - 5s - loss: 0.1191 - acc: 0.9494 - val_loss: 0.3407 - val_acc: 0.8805\n",
      "Epoch 16/100\n",
      " - 5s - loss: 0.1155 - acc: 0.9512 - val_loss: 0.3339 - val_acc: 0.8812\n",
      "Epoch 17/100\n",
      " - 4s - loss: 0.1100 - acc: 0.9542 - val_loss: 0.3390 - val_acc: 0.8756\n",
      "Epoch 18/100\n",
      " - 5s - loss: 0.1037 - acc: 0.9578 - val_loss: 0.3308 - val_acc: 0.8837\n",
      "Epoch 19/100\n",
      " - 5s - loss: 0.0890 - acc: 0.9648 - val_loss: 0.3595 - val_acc: 0.8796\n",
      "Epoch 20/100\n",
      " - 5s - loss: 0.0848 - acc: 0.9674 - val_loss: 0.3641 - val_acc: 0.8801\n",
      "Epoch 21/100\n",
      " - 4s - loss: 0.0813 - acc: 0.9680 - val_loss: 0.3479 - val_acc: 0.8841\n",
      "Epoch 22/100\n",
      " - 5s - loss: 0.0826 - acc: 0.9683 - val_loss: 0.3757 - val_acc: 0.8813\n",
      "Epoch 23/100\n",
      " - 4s - loss: 0.0692 - acc: 0.9743 - val_loss: 0.4000 - val_acc: 0.8824\n",
      "Epoch 24/100\n",
      " - 5s - loss: 0.0646 - acc: 0.9768 - val_loss: 0.3970 - val_acc: 0.8814\n",
      "Epoch 25/100\n",
      " - 4s - loss: 0.0608 - acc: 0.9770 - val_loss: 0.4069 - val_acc: 0.8836\n",
      "Epoch 26/100\n",
      " - 5s - loss: 0.0583 - acc: 0.9790 - val_loss: 0.4310 - val_acc: 0.8829\n",
      "Epoch 27/100\n",
      " - 4s - loss: 0.0523 - acc: 0.9809 - val_loss: 0.4598 - val_acc: 0.8863\n",
      "Epoch 28/100\n",
      " - 5s - loss: 0.0551 - acc: 0.9803 - val_loss: 0.4424 - val_acc: 0.8863\n",
      "Epoch 29/100\n",
      " - 4s - loss: 0.0437 - acc: 0.9847 - val_loss: 0.4788 - val_acc: 0.8863\n",
      "Epoch 30/100\n",
      " - 5s - loss: 0.0459 - acc: 0.9840 - val_loss: 0.4497 - val_acc: 0.8861\n",
      "Epoch 31/100\n",
      " - 5s - loss: 0.0411 - acc: 0.9860 - val_loss: 0.4190 - val_acc: 0.8868\n",
      "Epoch 32/100\n",
      " - 5s - loss: 0.0447 - acc: 0.9844 - val_loss: 0.4414 - val_acc: 0.8838\n",
      "Epoch 33/100\n",
      " - 5s - loss: 0.0420 - acc: 0.9855 - val_loss: 0.5085 - val_acc: 0.8860\n",
      "Epoch 34/100\n",
      " - 5s - loss: 0.0437 - acc: 0.9853 - val_loss: 0.4433 - val_acc: 0.8843\n",
      "Epoch 35/100\n",
      " - 5s - loss: 0.0380 - acc: 0.9870 - val_loss: 0.5012 - val_acc: 0.8892\n",
      "Epoch 36/100\n",
      " - 5s - loss: 0.0333 - acc: 0.9885 - val_loss: 0.4732 - val_acc: 0.8871\n",
      "Epoch 37/100\n",
      " - 5s - loss: 0.0351 - acc: 0.9882 - val_loss: 0.5266 - val_acc: 0.8860\n",
      "Epoch 38/100\n",
      " - 5s - loss: 0.0359 - acc: 0.9877 - val_loss: 0.5064 - val_acc: 0.8857\n",
      "Epoch 39/100\n",
      " - 5s - loss: 0.0374 - acc: 0.9875 - val_loss: 0.4759 - val_acc: 0.8867\n",
      "Epoch 40/100\n",
      " - 4s - loss: 0.0326 - acc: 0.9892 - val_loss: 0.4614 - val_acc: 0.8897\n",
      "Epoch 41/100\n",
      " - 4s - loss: 0.0289 - acc: 0.9907 - val_loss: 0.5303 - val_acc: 0.8893\n",
      "Epoch 42/100\n",
      " - 5s - loss: 0.0297 - acc: 0.9907 - val_loss: 0.4425 - val_acc: 0.8861\n",
      "Epoch 43/100\n",
      " - 5s - loss: 0.0334 - acc: 0.9887 - val_loss: 0.5604 - val_acc: 0.8838\n",
      "Epoch 44/100\n",
      " - 5s - loss: 0.0293 - acc: 0.9910 - val_loss: 0.5542 - val_acc: 0.8890\n",
      "Epoch 45/100\n",
      " - 5s - loss: 0.0336 - acc: 0.9901 - val_loss: 0.4942 - val_acc: 0.8910\n",
      "Epoch 46/100\n",
      " - 6s - loss: 0.0392 - acc: 0.9877 - val_loss: 0.5641 - val_acc: 0.8911\n",
      "Epoch 47/100\n",
      " - 6s - loss: 0.0228 - acc: 0.9933 - val_loss: 0.6390 - val_acc: 0.8905\n",
      "Epoch 48/100\n",
      " - 6s - loss: 0.0271 - acc: 0.9916 - val_loss: 0.5412 - val_acc: 0.8872\n",
      "Epoch 49/100\n",
      " - 6s - loss: 0.0435 - acc: 0.9868 - val_loss: 0.5277 - val_acc: 0.8892\n",
      "Epoch 50/100\n",
      " - 6s - loss: 0.0268 - acc: 0.9912 - val_loss: 0.5585 - val_acc: 0.8866\n",
      "Epoch 51/100\n",
      " - 5s - loss: 0.0231 - acc: 0.9924 - val_loss: 0.5227 - val_acc: 0.8904\n",
      "Epoch 52/100\n",
      " - 5s - loss: 0.0247 - acc: 0.9924 - val_loss: 0.5917 - val_acc: 0.8854\n",
      "Epoch 53/100\n",
      " - 5s - loss: 0.0268 - acc: 0.9918 - val_loss: 0.5843 - val_acc: 0.8850\n",
      "Epoch 54/100\n",
      " - 5s - loss: 0.0228 - acc: 0.9928 - val_loss: 0.5763 - val_acc: 0.8886\n",
      "Epoch 55/100\n",
      " - 5s - loss: 0.0213 - acc: 0.9932 - val_loss: 0.5732 - val_acc: 0.8873\n",
      "Epoch 56/100\n",
      " - 5s - loss: 0.0247 - acc: 0.9925 - val_loss: 0.5308 - val_acc: 0.8880\n",
      "Epoch 57/100\n",
      " - 5s - loss: 0.0307 - acc: 0.9906 - val_loss: 0.4957 - val_acc: 0.8870\n",
      "Epoch 58/100\n",
      " - 5s - loss: 0.0188 - acc: 0.9940 - val_loss: 0.5579 - val_acc: 0.8859\n",
      "Epoch 59/100\n",
      " - 5s - loss: 0.0195 - acc: 0.9937 - val_loss: 0.5994 - val_acc: 0.8867\n",
      "Epoch 60/100\n",
      " - 5s - loss: 0.0207 - acc: 0.9942 - val_loss: 0.5477 - val_acc: 0.8837\n",
      "Epoch 61/100\n",
      " - 5s - loss: 0.0244 - acc: 0.9927 - val_loss: 0.6134 - val_acc: 0.8832\n",
      "Epoch 62/100\n",
      " - 5s - loss: 0.0229 - acc: 0.9930 - val_loss: 0.5431 - val_acc: 0.8909\n",
      "Epoch 63/100\n",
      " - 5s - loss: 0.0249 - acc: 0.9922 - val_loss: 0.4786 - val_acc: 0.8879\n",
      "Epoch 64/100\n",
      " - 4s - loss: 0.0247 - acc: 0.9927 - val_loss: 0.5461 - val_acc: 0.8877\n",
      "Epoch 65/100\n",
      " - 4s - loss: 0.0257 - acc: 0.9923 - val_loss: 0.5231 - val_acc: 0.8863\n",
      "Epoch 66/100\n",
      " - 4s - loss: 0.0193 - acc: 0.9937 - val_loss: 0.6796 - val_acc: 0.8876\n",
      "Epoch 67/100\n",
      " - 5s - loss: 0.0191 - acc: 0.9939 - val_loss: 0.6319 - val_acc: 0.8850\n",
      "Epoch 68/100\n",
      " - 5s - loss: 0.0202 - acc: 0.9937 - val_loss: 0.6384 - val_acc: 0.8858\n",
      "Epoch 69/100\n",
      " - 5s - loss: 0.0210 - acc: 0.9943 - val_loss: 0.6385 - val_acc: 0.8886\n",
      "Epoch 70/100\n",
      " - 5s - loss: 0.0196 - acc: 0.9940 - val_loss: 0.5793 - val_acc: 0.8856\n",
      "Epoch 71/100\n",
      " - 5s - loss: 0.0317 - acc: 0.9907 - val_loss: 0.4987 - val_acc: 0.8882\n",
      "Epoch 72/100\n",
      " - 5s - loss: 0.0208 - acc: 0.9934 - val_loss: 0.6238 - val_acc: 0.8888\n",
      "Epoch 73/100\n",
      " - 5s - loss: 0.0191 - acc: 0.9935 - val_loss: 0.5749 - val_acc: 0.8872\n",
      "Epoch 74/100\n",
      " - 5s - loss: 0.0136 - acc: 0.9963 - val_loss: 0.6105 - val_acc: 0.8908\n",
      "Epoch 75/100\n",
      " - 5s - loss: 0.0156 - acc: 0.9946 - val_loss: 0.6216 - val_acc: 0.8921\n",
      "Epoch 76/100\n",
      " - 5s - loss: 0.0201 - acc: 0.9931 - val_loss: 0.6096 - val_acc: 0.8850\n",
      "Epoch 77/100\n",
      " - 4s - loss: 0.0188 - acc: 0.9941 - val_loss: 0.6584 - val_acc: 0.8870\n",
      "Epoch 78/100\n",
      " - 4s - loss: 0.0201 - acc: 0.9940 - val_loss: 0.5593 - val_acc: 0.8890\n",
      "Epoch 79/100\n",
      " - 4s - loss: 0.0136 - acc: 0.9958 - val_loss: 0.6587 - val_acc: 0.8887\n",
      "Epoch 80/100\n",
      " - 5s - loss: 0.0164 - acc: 0.9941 - val_loss: 0.5969 - val_acc: 0.8853\n",
      "Epoch 81/100\n",
      " - 5s - loss: 0.0179 - acc: 0.9952 - val_loss: 0.5685 - val_acc: 0.8862\n",
      "Epoch 82/100\n",
      " - 5s - loss: 0.0145 - acc: 0.9953 - val_loss: 0.6377 - val_acc: 0.8915\n",
      "Epoch 83/100\n",
      " - 5s - loss: 0.0121 - acc: 0.9964 - val_loss: 0.7346 - val_acc: 0.8843\n",
      "Epoch 84/100\n",
      " - 5s - loss: 0.0241 - acc: 0.9930 - val_loss: 0.6315 - val_acc: 0.8834\n",
      "Epoch 85/100\n",
      " - 5s - loss: 0.0216 - acc: 0.9944 - val_loss: 0.6086 - val_acc: 0.8820\n",
      "Epoch 86/100\n",
      " - 5s - loss: 0.0166 - acc: 0.9957 - val_loss: 0.6518 - val_acc: 0.8870\n",
      "Epoch 87/100\n",
      " - 5s - loss: 0.0206 - acc: 0.9937 - val_loss: 0.5036 - val_acc: 0.8902\n",
      "Epoch 88/100\n",
      " - 5s - loss: 0.0141 - acc: 0.9960 - val_loss: 0.6910 - val_acc: 0.8877\n",
      "Epoch 89/100\n",
      " - 5s - loss: 0.0182 - acc: 0.9949 - val_loss: 0.5874 - val_acc: 0.8903\n",
      "Epoch 90/100\n",
      " - 4s - loss: 0.0153 - acc: 0.9947 - val_loss: 0.6402 - val_acc: 0.8854\n",
      "Epoch 91/100\n",
      " - 4s - loss: 0.0137 - acc: 0.9955 - val_loss: 0.7017 - val_acc: 0.8839\n",
      "Epoch 92/100\n",
      " - 4s - loss: 0.0162 - acc: 0.9949 - val_loss: 0.7330 - val_acc: 0.8881\n",
      "Epoch 93/100\n",
      " - 4s - loss: 0.0216 - acc: 0.9931 - val_loss: 0.6319 - val_acc: 0.8899\n",
      "Epoch 94/100\n",
      " - 5s - loss: 0.0133 - acc: 0.9963 - val_loss: 0.6457 - val_acc: 0.8899\n"
     ]
    },
    {
     "name": "stdout",
     "output_type": "stream",
     "text": [
      "Epoch 95/100\n",
      " - 5s - loss: 0.0104 - acc: 0.9973 - val_loss: 0.7326 - val_acc: 0.8877\n",
      "Epoch 96/100\n",
      " - 4s - loss: 0.0179 - acc: 0.9950 - val_loss: 0.5141 - val_acc: 0.8856\n",
      "Epoch 97/100\n",
      " - 4s - loss: 0.0194 - acc: 0.9946 - val_loss: 0.7019 - val_acc: 0.8895\n",
      "Epoch 98/100\n",
      " - 5s - loss: 0.0158 - acc: 0.9955 - val_loss: 0.7788 - val_acc: 0.8895\n",
      "Epoch 99/100\n",
      " - 5s - loss: 0.0185 - acc: 0.9948 - val_loss: 0.6711 - val_acc: 0.8890\n",
      "Epoch 100/100\n",
      " - 6s - loss: 0.0140 - acc: 0.9959 - val_loss: 0.5916 - val_acc: 0.8869\n"
     ]
    },
    {
     "data": {
      "text/plain": [
       "<keras.callbacks.History at 0x1ba9c4397c8>"
      ]
     },
     "execution_count": 10,
     "metadata": {},
     "output_type": "execute_result"
    }
   ],
   "source": [
    "model.fit(((X_train[:,::4]-X_train.mean())/X_train.std()),Y_train[:,1:],10,100,verbose=2,validation_data=((X_test[:,::4]-X_test.mean())/X_test.std(),Y_test[:,1:]))"
   ]
  },
  {
   "cell_type": "markdown",
   "metadata": {},
   "source": [
    "# Accuracy on Validation Set"
   ]
  },
  {
   "cell_type": "code",
   "execution_count": 11,
   "metadata": {},
   "outputs": [
    {
     "data": {
      "text/plain": [
       "(2300, 5)"
      ]
     },
     "execution_count": 11,
     "metadata": {},
     "output_type": "execute_result"
    }
   ],
   "source": [
    "ypred=model.predict((X_test[:,::4]-X_test.mean())/X_test.std())\n",
    "ypred.shape"
   ]
  },
  {
   "cell_type": "code",
   "execution_count": 12,
   "metadata": {},
   "outputs": [],
   "source": [
    "yp=np.zeros((Y_test.shape[0]))\n",
    "yo=np.ones((Y_test.shape[0]))"
   ]
  },
  {
   "cell_type": "code",
   "execution_count": 13,
   "metadata": {},
   "outputs": [],
   "source": [
    "for i in range(Y_test.shape[0]):\n",
    "    yp[i]=np.argmax(ypred[i])+1\n",
    "    yo[i]=np.argmax(Y_test[i])"
   ]
  },
  {
   "cell_type": "code",
   "execution_count": 14,
   "metadata": {},
   "outputs": [
    {
     "data": {
      "text/plain": [
       "(2300,)"
      ]
     },
     "execution_count": 14,
     "metadata": {},
     "output_type": "execute_result"
    }
   ],
   "source": [
    "yp.shape"
   ]
  },
  {
   "cell_type": "code",
   "execution_count": 15,
   "metadata": {},
   "outputs": [
    {
     "data": {
      "text/plain": [
       "(2300,)"
      ]
     },
     "execution_count": 15,
     "metadata": {},
     "output_type": "execute_result"
    }
   ],
   "source": [
    "yo.shape"
   ]
  },
  {
   "cell_type": "code",
   "execution_count": 16,
   "metadata": {},
   "outputs": [
    {
     "data": {
      "text/plain": [
       "array([1., 2., 3., 4., 5.])"
      ]
     },
     "execution_count": 16,
     "metadata": {},
     "output_type": "execute_result"
    }
   ],
   "source": [
    "np.unique(yo)"
   ]
  },
  {
   "cell_type": "code",
   "execution_count": 17,
   "metadata": {},
   "outputs": [
    {
     "data": {
      "text/plain": [
       "array([0., 1.], dtype=float32)"
      ]
     },
     "execution_count": 17,
     "metadata": {},
     "output_type": "execute_result"
    }
   ],
   "source": [
    "np.unique(Y_test)"
   ]
  },
  {
   "cell_type": "code",
   "execution_count": 18,
   "metadata": {},
   "outputs": [
    {
     "data": {
      "text/plain": [
       "array([1., 2., 3., 4., 5.])"
      ]
     },
     "execution_count": 18,
     "metadata": {},
     "output_type": "execute_result"
    }
   ],
   "source": [
    "np.unique(yp)"
   ]
  },
  {
   "cell_type": "code",
   "execution_count": 19,
   "metadata": {},
   "outputs": [
    {
     "data": {
      "text/plain": [
       "(2300,)"
      ]
     },
     "execution_count": 19,
     "metadata": {},
     "output_type": "execute_result"
    }
   ],
   "source": [
    "yo.shape"
   ]
  },
  {
   "cell_type": "code",
   "execution_count": 20,
   "metadata": {},
   "outputs": [],
   "source": [
    "#conversion of classes\n",
    "for i in range(Y_test.shape[0]):\n",
    "    if yo[i]!=1:\n",
    "        yo[i]=0\n",
    "    if yp[i]!=1:\n",
    "        yp[i]=0"
   ]
  },
  {
   "cell_type": "code",
   "execution_count": 21,
   "metadata": {},
   "outputs": [
    {
     "data": {
      "text/plain": [
       "array([0., 1.])"
      ]
     },
     "execution_count": 21,
     "metadata": {},
     "output_type": "execute_result"
    }
   ],
   "source": [
    "np.unique(yo)"
   ]
  },
  {
   "cell_type": "code",
   "execution_count": 22,
   "metadata": {},
   "outputs": [
    {
     "data": {
      "text/plain": [
       "array([0., 1.])"
      ]
     },
     "execution_count": 22,
     "metadata": {},
     "output_type": "execute_result"
    }
   ],
   "source": [
    "np.unique(yp)"
   ]
  },
  {
   "cell_type": "code",
   "execution_count": 23,
   "metadata": {},
   "outputs": [],
   "source": [
    "from sklearn.metrics import accuracy_score"
   ]
  },
  {
   "cell_type": "code",
   "execution_count": 24,
   "metadata": {},
   "outputs": [
    {
     "data": {
      "text/plain": [
       "0.9739130434782609"
      ]
     },
     "execution_count": 24,
     "metadata": {},
     "output_type": "execute_result"
    }
   ],
   "source": [
    "accuracy_score(yo,yp)"
   ]
  },
  {
   "cell_type": "code",
   "execution_count": 26,
   "metadata": {},
   "outputs": [],
   "source": [
    "import smtplib \n",
    "from email.mime.multipart import MIMEMultipart \n",
    "from email.mime.text import MIMEText \n",
    "from email.mime.base import MIMEBase \n",
    "from email import encoders \n",
    "def mails(msgg):\n",
    "    msgg=str(msgg)\n",
    "\n",
    "    fromaddr = \"sur5gk@gmail.com\"\n",
    "    toaddr = \"@gmail.com\"\n",
    "\n",
    "    # instance of MIMEMultipart\n",
    "    msg = MIMEMultipart() \n",
    "    \n",
    "    # storing the senders email address\n",
    "    msg['From'] = fromaddr \n",
    "\n",
    "    # storing the receivers email address\n",
    "    msg['To'] = toaddr \n",
    "\n",
    "    # storing the subject \n",
    "    msg['Subject'] = \"Project\"\n",
    "\n",
    "    # string to store the body of the mail \n",
    "    body = msgg\n",
    "\n",
    "    # attach the body with the msg instance\n",
    "    msg.attach(MIMEText(body, 'plain')) \n",
    "\n",
    "    # open the file to be sent\n",
    "    filename = \"001.png\"\n",
    "    attachment = open(\"001.png\", \"rb\") \n",
    "\n",
    "     \n",
    "    # instance of MIMEBase and named as p\n",
    "    p = MIMEBase('application', 'octet-stream') \n",
    "\n",
    "    # To change the payload into encoded form\n",
    "    p.set_payload((attachment).read()) \n",
    "\n",
    "    # encode into base64\n",
    "    encoders.encode_base64(p) \n",
    "\n",
    "    p.add_header('Content-Disposition', \"attachment; filename= %s\" % filename) \n",
    "\n",
    "    # attach the instance 'p' to instance 'msg' \n",
    "    msg.attach(p) \n",
    "\n",
    "    # creates SMTP session \n",
    "    s = smtplib.SMTP('smtp.gmail.com', 587) \n",
    "\n",
    "    # start TLS for security \n",
    "    s.starttls() \n",
    "\n",
    "    # Authentication \n",
    "    s.login(fromaddr, \"uqvc lmpk mqio prbm\") \n",
    "\n",
    "    # Converts the Multipart msg into a string \n",
    "    text = msg.as_string() \n",
    "\n",
    "    # sending the mail \n",
    "    s.sendmail(fromaddr, toaddr, text) \n",
    "\n",
    "    # terminating the session \n",
    "    s.quit() \n",
    "    "
   ]
  },
  {
   "cell_type": "code",
   "execution_count": 94,
   "metadata": {},
   "outputs": [
    {
     "name": "stdout",
     "output_type": "stream",
     "text": [
      "0\n",
      "Normal\n"
     ]
    }
   ],
   "source": [
    "#print(model.predict((X_test[:,::4]-X_test.mean())/X_test.std()))\n",
    "pred=int(yo[1])\n",
    "print(pred)\n",
    "if(pred==1):\n",
    "    print('Alert')\n",
    "    mails('Positive result')\n",
    "else:\n",
    "    print('Normal')"
   ]
  },
  {
   "cell_type": "code",
   "execution_count": null,
   "metadata": {},
   "outputs": [],
   "source": []
  },
  {
   "cell_type": "code",
   "execution_count": null,
   "metadata": {},
   "outputs": [],
   "source": []
  },
  {
   "cell_type": "code",
   "execution_count": null,
   "metadata": {},
   "outputs": [],
   "source": []
  }
 ],
 "metadata": {
  "kernelspec": {
   "display_name": "Python 3",
   "language": "python",
   "name": "python3"
  },
  "language_info": {
   "codemirror_mode": {
    "name": "ipython",
    "version": 3
   },
   "file_extension": ".py",
   "mimetype": "text/x-python",
   "name": "python",
   "nbconvert_exporter": "python",
   "pygments_lexer": "ipython3",
   "version": "3.7.4"
  }
 },
 "nbformat": 4,
 "nbformat_minor": 2
}
